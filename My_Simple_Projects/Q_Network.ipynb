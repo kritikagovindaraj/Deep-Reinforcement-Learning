{
 "cells": [
  {
   "cell_type": "markdown",
   "metadata": {},
   "source": [
    "# CartPole Example\n",
    "Machine learning with Phil \n",
    "Reinforcement learning in Open AI Gym"
   ]
  },
  {
   "cell_type": "code",
   "execution_count": null,
   "metadata": {},
   "outputs": [],
   "source": [
    "import gym\n",
    "import numpy as np\n",
    "from gym import wrappers #to record video "
   ]
  },
  {
   "cell_type": "code",
   "execution_count": null,
   "metadata": {},
   "outputs": [],
   "source": [
    "# Picking the Cart-Pole environment\n",
    "env =  gym.make('CartPole-v0')\n",
    "\n",
    "# Variable Definition\n",
    "bestLength = np.inf  # Holds the episode with least length\n",
    "episode_lengths = [] # List of episode lengths\n",
    "\n",
    "best_weights = np.zeros(4) \n",
    "#set of weights from equiprobable distribution that gives best results\n"
   ]
  },
  {
   "cell_type": "code",
   "execution_count": null,
   "metadata": {},
   "outputs": [],
   "source": [
    "num_iter =  100 #Number of times we want to run the games\n",
    "sqn_len = 1000 # Max number of sequences of actions in an episode\n",
    "\n",
    "for i in range(num_iter):\n",
    "# Generate uniform distribution with 4 values as there are 4 observations\n",
    "    new_weights = np.random.uniform(-1.0, 1.0, 4)\n",
    "    length = []\n",
    "    \n",
    "    for j in range(sqn_len):\n",
    "        # Reset before starting new scenarios\n",
    "        observation = env.reset()\n",
    "        done = False\n",
    "        cnt = 0\n",
    "        \n",
    "        while not done:\n",
    "            cnt += 1\n",
    "            action = 1 if np.dot(observation, new_weights) > 0 else 0\n",
    "            observation, reward, done, _ = env.step(action)\n",
    "            \n",
    "            if done:\n",
    "                break\n",
    "                \n",
    "        length.append(cnt) \n",
    "    average_length = float(sum(length)/ len(length))\n",
    "    \n",
    "    \n",
    "    if average_length < bestLength:\n",
    "        bestLength = average_length\n",
    "        best_weights = new_weights\n",
    "    \n",
    "    episode_lengths.append(average_length)\n",
    "    \n",
    "    if i%20 == 0:\n",
    "        print(i,'/', 100)\n"
   ]
  },
  {
   "cell_type": "code",
   "execution_count": null,
   "metadata": {},
   "outputs": [],
   "source": [
    "print(bestLength)\n",
    "print(best_weights)\n",
    "print(episode_lengths)"
   ]
  },
  {
   "cell_type": "code",
   "execution_count": null,
   "metadata": {},
   "outputs": [],
   "source": [
    "#Play one final game with the best set of parametes\n",
    "\n",
    "\n",
    "done = False\n",
    "env = wrappers.Monitor(env, 'MovieFiles', force=True)\n",
    "observation = env.reset()\n",
    "\n",
    "while not done:\n",
    "    \n",
    "    action = 1 if np.dot(observation,best_weights) > 0 else 0\n",
    "    observation,reward,done, _ = env.step(action)\n",
    "    \n",
    "    if done:\n",
    "        break"
   ]
  },
  {
   "cell_type": "code",
   "execution_count": null,
   "metadata": {},
   "outputs": [],
   "source": []
  }
 ],
 "metadata": {
  "kernelspec": {
   "display_name": "drlnd",
   "language": "python",
   "name": "drlnd"
  },
  "language_info": {
   "codemirror_mode": {
    "name": "ipython",
    "version": 3
   },
   "file_extension": ".py",
   "mimetype": "text/x-python",
   "name": "python",
   "nbconvert_exporter": "python",
   "pygments_lexer": "ipython3",
   "version": "3.6.12"
  }
 },
 "nbformat": 4,
 "nbformat_minor": 4
}
