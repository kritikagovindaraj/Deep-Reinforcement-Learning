{
 "cells": [
  {
   "cell_type": "markdown",
   "metadata": {},
   "source": [
    "# Navigation\n",
    "\n",
    "---\n",
    "\n",
    ]
  },
  {
   "cell_type": "code",
   "execution_count": 1,
   "metadata": {},
   "outputs": [],
   "source": [
    "from unityagents import UnityEnvironment\n",
    "import numpy as np\n",
    "from model import QNetwork\n",
    "from dqn_agent import Agent\n",
    "from collections import deque\n",
    "import matplotlib.pyplot as plt\n",
    "import numpy as np\n",
    "import torch\n",
    "%matplotlib inline"
   ]
  },
  {
   "cell_type": "markdown",
   "metadata": {},
   "source": [
    "Next, we will start the environment!  **_Before running the code cell below_**, change the `file_name` parameter to match the location of the Unity environment that you downloaded.\n",
    "\n",
    "- **Mac**: `\"path/to/Banana.app\"`\n",
    "- **Windows** (x86): `\"path/to/Banana_Windows_x86/Banana.exe\"`\n",
    "- **Windows** (x86_64): `\"path/to/Banana_Windows_x86_64/Banana.exe\"`\n",
    "- **Linux** (x86): `\"path/to/Banana_Linux/Banana.x86\"`\n",
    "- **Linux** (x86_64): `\"path/to/Banana_Linux/Banana.x86_64\"`\n",
    "- **Linux** (x86, headless): `\"path/to/Banana_Linux_NoVis/Banana.x86\"`\n",
    "- **Linux** (x86_64, headless): `\"path/to/Banana_Linux_NoVis/Banana.x86_64\"`\n",
    "\n",
    "For instance, if you are using a Mac, then you downloaded `Banana.app`.  If this file is in the same folder as the notebook, then the line below should appear as follows:\n",
    "```\n",
    "env = UnityEnvironment(file_name=\"Banana.app\")\n",
    "```"
   ]
  },
  {
   "cell_type": "code",
   "execution_count": 2,
   "metadata": {},
   "outputs": [
    {
     "name": "stderr",
     "output_type": "stream",
     "text": [
      "INFO:unityagents:\n",
      "'Academy' started successfully!\n",
      "Unity Academy name: Academy\n",
      "        Number of Brains: 1\n",
      "        Number of External Brains : 1\n",
      "        Lesson number : 0\n",
      "        Reset Parameters :\n",
      "\t\t\n",
      "Unity brain name: BananaBrain\n",
      "        Number of Visual Observations (per agent): 0\n",
      "        Vector Observation space type: continuous\n",
      "        Vector Observation space size (per agent): 37\n",
      "        Number of stacked Vector Observation: 1\n",
      "        Vector Action space type: discrete\n",
      "        Vector Action space size (per agent): 4\n",
      "        Vector Action descriptions: , , , \n"
     ]
    }
   ],
   "source": [
    "env = UnityEnvironment(file_name=\"/home/krithika/Documents/Deep-reinforcement-learning/p1_navigation/Banana_Linux/Banana.x86\")"
   ]
  },
  {
   "cell_type": "markdown",
   "metadata": {},
   "source": [
    "Environments contain **_brains_** which are responsible for deciding the actions of their associated agents. Here we check for the first brain available, and set it as the default brain we will be controlling from Python."
   ]
  },
  {
   "cell_type": "code",
   "execution_count": 3,
   "metadata": {},
   "outputs": [],
   "source": [
    "# get the default brain\n",
    "brain_name = env.brain_names[0]\n",
    "brain = env.brains[brain_name]"
   ]
  },
  {
   "cell_type": "markdown",
   "metadata": {},
   "source": [
    "### 2. Examine the State and Action Spaces\n",
    "\n",
    "The simulation contains a single agent that navigates a large environment.  At each time step, it has four actions at its disposal:\n",
    "- `0` - walk forward \n",
    "- `1` - walk backward\n",
    "- `2` - turn left\n",
    "- `3` - turn right\n",
    "\n",
    "The state space has `37` dimensions and contains the agent's velocity, along with ray-based perception of objects around agent's forward direction.  A reward of `+1` is provided for collecting a yellow banana, and a reward of `-1` is provided for collecting a blue banana. \n",
    "\n",
    "Run the code cell below to print some information about the environment."
   ]
  },
  {
   "cell_type": "code",
   "execution_count": 4,
   "metadata": {},
   "outputs": [
    {
     "name": "stdout",
     "output_type": "stream",
     "text": [
      "Number of agents: 1\n",
      "Number of actions: 4\n",
      "States look like: [1.         0.         0.         0.         0.84408134 0.\n",
      " 0.         1.         0.         0.0748472  0.         1.\n",
      " 0.         0.         0.25755    1.         0.         0.\n",
      " 0.         0.74177343 0.         1.         0.         0.\n",
      " 0.25854847 0.         0.         1.         0.         0.09355672\n",
      " 0.         1.         0.         0.         0.31969345 0.\n",
      " 0.        ]\n",
      "States have length: 37\n"
     ]
    }
   ],
   "source": [
    "# reset the environment\n",
    "env_info = env.reset(train_mode=True)[brain_name]\n",
    "\n",
    "# number of agents in the environment\n",
    "print('Number of agents:', len(env_info.agents))\n",
    "\n",
    "# number of actions\n",
    "action_size = brain.vector_action_space_size\n",
    "print('Number of actions:', action_size)\n",
    "\n",
    "# examine the state space \n",
    "state = env_info.vector_observations[0]\n",
    "print('States look like:', state)\n",
    "state_size = len(state)\n",
    "print('States have length:', state_size)"
   ]
  },
  {
   "cell_type": "markdown",
   "metadata": {},
   "source": [
    "### 3. Take Random Actions in the Environment\n",
    "\n",
    "In the next code cell, you will learn how to use the Python API to control the agent and receive feedback from the environment.\n",
    "\n",
    "Once this cell is executed, you will watch the agent's performance, if it selects an action (uniformly) at random with each time step.  A window should pop up that allows you to observe the agent, as it moves through the environment.  \n",
    "\n",
    "Of course, as part of the project, you'll have to change the code so that the agent is able to use its experience to gradually choose better actions when interacting with the environment!"
   ]
  },
  {
   "cell_type": "code",
   "execution_count": 5,
   "metadata": {},
   "outputs": [
    {
     "data": {
      "text/plain": [
       "'\\nenv_info = env.reset(train_mode=False)[brain_name] # reset the environment\\nstate = env_info.vector_observations[0]            # get the current state\\nscore = 0                                          # initialize the score\\nwhile True:\\n    action = np.random.randint(action_size)        # select an action\\n    env_info = env.step(action)[brain_name]        # send the action to the environment\\n    next_state = env_info.vector_observations[0]   # get the next state\\n    reward = env_info.rewards[0]                   # get the reward\\n    done = env_info.local_done[0]                  # see if episode has finished\\n    score += reward                                # update the score\\n    state = next_state                             # roll over the state to next time step\\n    if done:                                       # exit loop if episode finished\\n        break\\n    \\nprint(\"Score: {}\".format(score))\\n'"
      ]
     },
     "execution_count": 5,
     "metadata": {},
     "output_type": "execute_result"
    }
   ],
   "source": [
    "\"\"\"\n",
    "env_info = env.reset(train_mode=False)[brain_name] # reset the environment\n",
    "state = env_info.vector_observations[0]            # get the current state\n",
    "score = 0                                          # initialize the score\n",
    "while True:\n",
    "    action = np.random.randint(action_size)        # select an action\n",
    "    env_info = env.step(action)[brain_name]        # send the action to the environment\n",
    "    next_state = env_info.vector_observations[0]   # get the next state\n",
    "    reward = env_info.rewards[0]                   # get the reward\n",
    "    done = env_info.local_done[0]                  # see if episode has finished\n",
    "    score += reward                                # update the score\n",
    "    state = next_state                             # roll over the state to next time step\n",
    "    if done:                                       # exit loop if episode finished\n",
    "        break\n",
    "    \n",
    "print(\"Score: {}\".format(score))\n",
    "\"\"\""
   ]
  },
  {
   "cell_type": "markdown",
   "metadata": {},
   "source": [
    "### Explore the Deep-Q Network"
   ]
  },
  {
   "cell_type": "code",
   "execution_count": 6,
   "metadata": {},
   "outputs": [
    {
     "data": {
      "text/plain": [
       "QNetwork(\n",
       "  (fc1): Linear(in_features=37, out_features=64, bias=True)\n",
       "  (fc2): Linear(in_features=64, out_features=64, bias=True)\n",
       "  (fc3): Linear(in_features=64, out_features=4, bias=True)\n",
       ")"
      ]
     },
     "execution_count": 6,
     "metadata": {},
     "output_type": "execute_result"
    }
   ],
   "source": [
    "model = QNetwork(37, 4, 1)\n",
    "model"
   ]
  },
  {
   "cell_type": "markdown",
   "metadata": {},
   "source": [
    "#### Initializing weights and biases\n",
    "The weights and such are automatically initialized, however it is possible to customize it. "
   ]
  },
  {
   "cell_type": "code",
   "execution_count": 7,
   "metadata": {},
   "outputs": [
    {
     "name": "stdout",
     "output_type": "stream",
     "text": [
      "Parameter containing:\n",
      "tensor([[ 0.0847, -0.0726, -0.0319,  ..., -0.1563, -0.0793,  0.1444],\n",
      "        [-0.0274,  0.0704, -0.0764,  ..., -0.0386,  0.0803,  0.0094],\n",
      "        [ 0.0540,  0.0361,  0.0598,  ...,  0.1127,  0.0341,  0.0529],\n",
      "        ...,\n",
      "        [-0.0529,  0.0392, -0.0937,  ...,  0.0158,  0.0004,  0.0964],\n",
      "        [-0.0099,  0.0266, -0.0454,  ...,  0.0411,  0.1143, -0.1279],\n",
      "        [-0.1196,  0.0022, -0.0096,  ..., -0.1146,  0.0210,  0.0654]],\n",
      "       requires_grad=True)\n",
      "Parameter containing:\n",
      "tensor([ 0.1561, -0.1549, -0.1386,  0.0046,  0.1519,  0.0106,  0.0456,  0.0233,\n",
      "        -0.0197,  0.1173,  0.1207, -0.0948, -0.0985, -0.1278, -0.0400, -0.0037,\n",
      "         0.1376, -0.1591,  0.1167, -0.0918,  0.0134, -0.0077,  0.0929, -0.1375,\n",
      "        -0.1148,  0.0038,  0.0829, -0.0791,  0.0510, -0.0434, -0.1533,  0.0188,\n",
      "        -0.0350,  0.0973,  0.1083,  0.1076,  0.1030, -0.1272, -0.1577,  0.0184,\n",
      "         0.0477, -0.1265,  0.1344, -0.0174, -0.0963,  0.1128,  0.1440,  0.0253,\n",
      "        -0.0524,  0.0178, -0.1212,  0.1013,  0.1032, -0.0308, -0.1303,  0.1220,\n",
      "        -0.1345, -0.0863,  0.0981, -0.0817,  0.0313,  0.1351, -0.0208, -0.0372],\n",
      "       requires_grad=True)\n"
     ]
    }
   ],
   "source": [
    "print(model.fc1.weight)\n",
    "print(model.fc1.bias)"
   ]
  },
  {
   "cell_type": "code",
   "execution_count": 8,
   "metadata": {},
   "outputs": [],
   "source": [
    "#Create DQN agent \n",
    "\n",
    "agent = Agent(state_size = 37, action_size = 4, seed = 0)"
   ]
  },
  {
   "cell_type": "code",
   "execution_count": 9,
   "metadata": {},
   "outputs": [
    {
     "name": "stdout",
     "output_type": "stream",
     "text": [
      "Episode 100\tAverage Score: 1.15\n",
      "Episode 200\tAverage Score: 4.30\n",
      "Episode 300\tAverage Score: 8.22\n",
      "Episode 400\tAverage Score: 10.92\n",
      "Episode 494\tAverage Score: 13.05\n",
      "Environment solved in 394 episodes!\tAverage Score: 13.05\n"
     ]
    },
    {
     "data": {
      "image/png": "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\n",
      "text/plain": [
       "<Figure size 432x288 with 1 Axes>"
      ]
     },
     "metadata": {
      "needs_background": "light"
     },
     "output_type": "display_data"
    }
   ],
   "source": [
    "def dqn(n_episodes=2000, max_t=1000, eps_start=1.0, eps_end=0.01, eps_decay=0.995):\n",
    "    \"\"\"Deep Q-Learning\n",
    "    Params\n",
    "    ======\n",
    "        n_episodes(int): maximum number of training episodes\n",
    "        max_t (int): maximum number of timesteps per episode\n",
    "        eps_start (float): starting value epsilon, for epsilon-greedy action selection\n",
    "        eps_end (float): minimum value of epsilon\n",
    "        eps_decay (float): multiplicative factor (per episode) for decreasing epsilon\n",
    "    \"\"\"\n",
    "    scores = []\n",
    "    scores_window = deque(maxlen=100) # last 100 scores\n",
    "    eps = eps_start\n",
    "    for i_episode in range(1, n_episodes+1):\n",
    "        env_info = env.reset(train_mode=True)[brain_name]\n",
    "        state = env_info.vector_observations[0]\n",
    "        score = 0\n",
    "        for t in range(max_t):\n",
    "            action = agent.act(state, eps)\n",
    "            env_info = env.step(action)[brain_name]\n",
    "            \n",
    "            next_state = env_info.vector_observations[0]\n",
    "            reward = env_info.rewards[0]\n",
    "            done = env_info.local_done[0]\n",
    "            \n",
    "            agent.step(state, action, reward, next_state, done)\n",
    "            state = next_state\n",
    "            score += reward\n",
    "            if done:\n",
    "                break\n",
    "        scores_window.append(score)\n",
    "        scores.append(score)\n",
    "        eps = max(eps_end, eps_decay*eps) # decrease epsilon\n",
    "        print('\\rEpisode {}\\tAverage Score: {:.2f}'.format(i_episode, np.mean(scores_window)), end=\"\")\n",
    "        if i_episode % 100 == 0:\n",
    "            print('\\rEpisode {}\\tAverage Score: {:.2f}'.format(i_episode, np.mean(scores_window)))\n",
    "        if np.mean(scores_window)>=13.0:\n",
    "            print('\\nEnvironment solved in {:d} episodes!\\tAverage Score: {:.2f}'.format(i_episode-100, np.mean(scores_window)))\n",
    "            torch.save(agent.qnetwork_local.state_dict(), 'checkpoint.pth')\n",
    "            break\n",
    "    return scores\n",
    "\n",
    "scores = dqn()\n",
    "\n",
    "# plot the scores\n",
    "fig = plt.figure()\n",
    "ax = fig.add_subplot(111)\n",
    "plt.plot(np.arange(len(scores)), scores)\n",
    "plt.ylabel('Score')\n",
    "plt.xlabel('Episode #')\n",
    "plt.show()"
   ]
  },
  {
   "cell_type": "markdown",
   "metadata": {},
   "source": [
    "When finished, you can close the environment."
   ]
  },
  {
   "cell_type": "code",
   "execution_count": 10,
   "metadata": {},
   "outputs": [],
   "source": [
    "env.close()"
   ]
  },
  {
   "cell_type": "markdown",
   "metadata": {},
   "source": [
    "### 4. It's Your Turn!\n",
    "\n",
    "Now it's your turn to train your own agent to solve the environment!  When training the environment, set `train_mode=True`, so that the line for resetting the environment looks like the following:\n",
    "```python\n",
    "env_info = env.reset(train_mode=True)[brain_name]\n",
    "```"
   ]
  }
 ],
 "metadata": {
  "kernelspec": {
   "display_name": "drlnd",
   "language": "python",
   "name": "drlnd"
  },
  "language_info": {
   "codemirror_mode": {
    "name": "ipython",
    "version": 3
   },
   "file_extension": ".py",
   "mimetype": "text/x-python",
   "name": "python",
   "nbconvert_exporter": "python",
   "pygments_lexer": "ipython3",
   "version": "3.6.12"
  }
 },
 "nbformat": 4,
 "nbformat_minor": 2
}
